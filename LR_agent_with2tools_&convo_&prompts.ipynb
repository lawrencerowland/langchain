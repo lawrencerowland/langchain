{
 "cells": [
  {
   "cell_type": "code",
   "execution_count": 1,
   "id": "5cf317f6-b671-4367-96fe-45ebfd8643cc",
   "metadata": {},
   "outputs": [],
   "source": [
    "#Environment set up\n",
    "import os\n",
    "os.environ[\"OPENAI_API_KEY\"] = ..."
   ]
  },
  {
   "cell_type": "code",
   "execution_count": null,
   "id": "bedd70dd-b63c-4258-b0c8-29f7e202c7ae",
   "metadata": {},
   "outputs": [],
   "source": [
    "# pip install numexpr google-search-results"
   ]
  },
  {
   "cell_type": "code",
   "execution_count": 2,
   "id": "d4f2a012-af70-4171-9a4e-9fe802c41555",
   "metadata": {},
   "outputs": [],
   "source": [
    "from langchain.llms import OpenAI\n",
    "from langchain.prompts import PromptTemplate\n",
    "from langchain.chains import LLMChain, ConversationChain\n",
    "from langchain.agents import load_tools, initialize_agent,AgentType"
   ]
  },
  {
   "cell_type": "code",
   "execution_count": 3,
   "id": "f9ef402f-8e7e-4598-94d1-a0a4e5c3b671",
   "metadata": {},
   "outputs": [],
   "source": [
    "#load the language model we're going to use to control the agent.\n",
    "llm_OpenAI = OpenAI(temperature=0.8)"
   ]
  },
  {
   "cell_type": "code",
   "execution_count": 4,
   "id": "dfe9c2e7-c3b0-4b32-9e05-b1a5adc396af",
   "metadata": {},
   "outputs": [],
   "source": [
    "# load some tools e.g. Database lookup, Python REPL, other chains. \n",
    "#The interface for a tool is currently a function that is expected to have a string as an input..\n",
    "#..with a string as an output. that the `llm-math` tool uses an LLM, so we need to pass that in.\n",
    "tools = load_tools([\"serpapi\", \"llm-math\"], llm=llm_OpenAI)"
   ]
  },
  {
   "cell_type": "code",
   "execution_count": 5,
   "id": "60765fbf-a537-4ff7-acd9-f83d3375704f",
   "metadata": {},
   "outputs": [],
   "source": [
    "# initialize an agent with the tools, the language model, and the type of agent we want to use.\n",
    "# agents dynamically Call Chains Based on User Input\n",
    "# to specify the agent required, we give a string that references a support agent class.\n",
    "Project_agent = initialize_agent(tools, llm_OpenAI, agent=AgentType.ZERO_SHOT_REACT_DESCRIPTION, verbose=True)"
   ]
  },
  {
   "cell_type": "code",
   "execution_count": 6,
   "id": "39930867-056d-4d70-8feb-fc4200d6f674",
   "metadata": {},
   "outputs": [
    {
     "name": "stdout",
     "output_type": "stream",
     "text": [
      "\n",
      "\n",
      "\u001b[1m> Entering new AgentExecutor chain...\u001b[0m\n",
      "\u001b[32;1m\u001b[1;3m I should do some research about the cost of building in Salisbury\n",
      "Action: Search\n",
      "Action Input: building cost Salisbury England\u001b[0m\n",
      "Observation: \u001b[36;1m\u001b[1;3mSearch our selection of properties for sale in Salisbury. ... Guide price £122,500 -​ £152,500 ... Alderbury, Salisbury, Wiltshire, SP5 3AS.\u001b[0m\n",
      "Thought:\u001b[32;1m\u001b[1;3m That's useful but I need more information about the cost of a new school building\n",
      "Action: Search\n",
      "Action Input: cost of building new school Salisbury England\u001b[0m\n",
      "Observation: \u001b[36;1m\u001b[1;3mThe total cost of new block and demolition of old one is £4.545m, of which £1.545m comes from a Department for Education (DfE) grant and £3m is ...\u001b[0m\n",
      "Thought:\u001b[32;1m\u001b[1;3m I now know the estimated cost of building a new school in Salisbury, England\n",
      "Final Answer: The estimated cost of building a new school in Salisbury, England is approximately £4.545 million.\u001b[0m\n",
      "\n",
      "\u001b[1m> Finished chain.\u001b[0m\n"
     ]
    }
   ],
   "source": [
    "# run\n",
    "output0=Project_agent.run(\"what might be costs for building a new school in Salisbury, England? thanks\")"
   ]
  },
  {
   "cell_type": "markdown",
   "id": "53c09e27-4e54-4902-a9ab-140232d3f988",
   "metadata": {},
   "source": [
    "Memory: Add State to Chains and Agents\n",
    "So far, all the chains and agents we’ve gone through have been stateless. \n",
    "the ConversationChain is one of several options with two different types of memory.\n",
    "By default, the ConversationChain all previous inputs/outputs and adds them to the context that is passed."
   ]
  },
  {
   "cell_type": "code",
   "execution_count": 8,
   "id": "53a484e2-ad13-4748-8b2d-bfccb02cde52",
   "metadata": {},
   "outputs": [
    {
     "name": "stdout",
     "output_type": "stream",
     "text": [
      "\n",
      "\n",
      "\u001b[1m> Entering new ConversationChain chain...\u001b[0m\n",
      "Prompt after formatting:\n",
      "\u001b[32;1m\u001b[1;3mThe following is a friendly conversation between a human and an AI. The AI is talkative and provides lots of specific details from its context. If the AI does not know the answer to a question, it truthfully says it does not know.\n",
      "\n",
      "Current conversation:\n",
      "\n",
      "Human: Hi. You are reviewing the proposed costs for a school in Salisbury. Please state a plan for improving the accuracy of these costs. Here they are:The estimated cost of building a new school in Salisbury, England is approximately £4.545 million.\n",
      "AI:\u001b[0m\n",
      "\n",
      "\u001b[1m> Finished chain.\u001b[0m\n",
      " Hi! My plan for improving the accuracy of these costs involves gathering more detailed information. Specifically, I would need to know the total square feet of the proposed school, the number of classrooms, the number of other amenities to be included, such as sports fields or a cafeteria, and an estimate of the cost of labor and materials in the area. With this information, I can provide a much more accurate estimated cost of building the school.\n"
     ]
    }
   ],
   "source": [
    "Project_reviewer = ConversationChain(llm=llm_OpenAI, verbose=True)\n",
    "output1 = Project_reviewer.predict(input=\"Hi. You are reviewing the proposed costs for a school in Salisbury. Please state a plan for improving the accuracy of these costs. Here they are:\"+output0)\n",
    "print(output1)"
   ]
  },
  {
   "cell_type": "code",
   "execution_count": 9,
   "id": "21142fcc-6b7c-4018-ba9f-8e8b46a5c887",
   "metadata": {},
   "outputs": [
    {
     "name": "stdout",
     "output_type": "stream",
     "text": [
      "\n",
      "\n",
      "\u001b[1m> Entering new ConversationChain chain...\u001b[0m\n",
      "Prompt after formatting:\n",
      "\u001b[32;1m\u001b[1;3mThe following is a friendly conversation between a human and an AI. The AI is talkative and provides lots of specific details from its context. If the AI does not know the answer to a question, it truthfully says it does not know.\n",
      "\n",
      "Current conversation:\n",
      "Human: Hi. You are reviewing the proposed costs for a school in Salisbury. Please state a plan for improving the accuracy of these costs. Here they are:The estimated cost of building a new school in Salisbury, England is approximately £4.545 million.\n",
      "AI:  Hi! My plan for improving the accuracy of these costs involves gathering more detailed information. Specifically, I would need to know the total square feet of the proposed school, the number of classrooms, the number of other amenities to be included, such as sports fields or a cafeteria, and an estimate of the cost of labor and materials in the area. With this information, I can provide a much more accurate estimated cost of building the school.\n",
      "Human: Thankyou. Please could you break that down the first task\n",
      "AI:\u001b[0m\n",
      "\n",
      "\u001b[1m> Finished chain.\u001b[0m\n",
      " Sure! The first task would be to gather more detailed information. This would involve collecting information such as the total square feet of the proposed school, the number of classrooms, the number of other amenities to be included, and an estimate of the cost of labor and materials in the area. This information would then be used to create a more accurate estimated cost of building the school.\n"
     ]
    }
   ],
   "source": [
    "output2 = Project_reviewer.predict(input=\"Thankyou. Please could you break that down the first task\")\n",
    "print(output2)"
   ]
  },
  {
   "cell_type": "code",
   "execution_count": 4,
   "id": "834605d2-5585-4485-a0f8-7e11c7299e38",
   "metadata": {},
   "outputs": [],
   "source": [
    "##pass few shot examples to a prompt template\n",
    "from langchain import PromptTemplate, FewShotPromptTemplate\n",
    "\n",
    "# First, create the list of few shot examples.\n",
    "examples = [\n",
    "    {\"word\": \"happy\", \"antonym\": \"sad\"},\n",
    "    {\"word\": \"tall\", \"antonym\": \"short\"},\n",
    "]"
   ]
  },
  {
   "cell_type": "code",
   "execution_count": 2,
   "id": "ca1f48ad-441f-4679-939f-41ab7d94f7c6",
   "metadata": {},
   "outputs": [],
   "source": [
    "# Next, we specify the template to format the examples we have provided.\n",
    "# We use the `PromptTemplate` class for this.\n",
    "example_formatter_template = \"\"\"\n",
    "Word: {word}\n",
    "Antonym: {antonym}\\n\n",
    "\"\"\""
   ]
  },
  {
   "cell_type": "code",
   "execution_count": 6,
   "id": "1f70bf72-638b-47ed-8c23-9676c7214b9b",
   "metadata": {},
   "outputs": [],
   "source": [
    "example_prompt = PromptTemplate(\n",
    "    input_variables=[\"word\", \"antonym\"],\n",
    "    template=example_formatter_template,\n",
    ")"
   ]
  },
  {
   "cell_type": "code",
   "execution_count": 7,
   "id": "f6e68896-f9d6-4ade-bd41-aa8e8757efcb",
   "metadata": {},
   "outputs": [],
   "source": [
    "# Finally, we create the `FewShotPromptTemplate` object.\n",
    "few_shot_prompt = FewShotPromptTemplate(\n",
    "    # These are the examples we want to insert into the prompt.\n",
    "    examples=examples,\n",
    "    # This is how we want to format the examples when we insert them into the prompt.\n",
    "    example_prompt=example_prompt,\n",
    "    # The prefix is some text that goes before the examples in the prompt.\n",
    "    # Usually, this consists of intructions.\n",
    "    prefix=\"Give the antonym of every input\",\n",
    "    # The suffix is some text that goes after the examples in the prompt.\n",
    "    # Usually, this is where the user input will go\n",
    "    suffix=\"Word: {input}\\nAntonym:\",\n",
    "    # The input variables are the variables that the overall prompt expects.\n",
    "    input_variables=[\"input\"],\n",
    "    # The example_separator is the string we will use to join the prefix, examples, and suffix together with.\n",
    "    example_separator=\"\\n\\n\",\n",
    ")"
   ]
  },
  {
   "cell_type": "code",
   "execution_count": 8,
   "id": "59417824-1389-4553-a65b-712ef501e425",
   "metadata": {},
   "outputs": [
    {
     "name": "stdout",
     "output_type": "stream",
     "text": [
      "Give the antonym of every input\n",
      "\n",
      "\n",
      "Word: happy\n",
      "Antonym: sad\n",
      "\n",
      "\n",
      "\n",
      "\n",
      "Word: tall\n",
      "Antonym: short\n",
      "\n",
      "\n",
      "\n",
      "Word: big\n",
      "Antonym:\n"
     ]
    }
   ],
   "source": [
    "# We can now generate a prompt using the `format` method.\n",
    "print(few_shot_prompt.format(input=\"big\"))\n"
   ]
  },
  {
   "cell_type": "code",
   "execution_count": null,
   "id": "0072b261-b5fe-48cc-a4b5-f6c0ce4d580f",
   "metadata": {},
   "outputs": [],
   "source": []
  }
 ],
 "metadata": {
  "kernelspec": {
   "display_name": "Python 3 (ipykernel)",
   "language": "python",
   "name": "python3"
  },
  "language_info": {
   "codemirror_mode": {
    "name": "ipython",
    "version": 3
   },
   "file_extension": ".py",
   "mimetype": "text/x-python",
   "name": "python",
   "nbconvert_exporter": "python",
   "pygments_lexer": "ipython3",
   "version": "3.8.5"
  }
 },
 "nbformat": 4,
 "nbformat_minor": 5
}
