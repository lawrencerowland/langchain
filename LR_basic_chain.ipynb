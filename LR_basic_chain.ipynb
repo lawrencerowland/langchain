{
 "cells": [
  {
   "cell_type": "code",
   "execution_count": 44,
   "id": "5cf317f6-b671-4367-96fe-45ebfd8643cc",
   "metadata": {},
   "outputs": [],
   "source": [
    "#Environment set up\n",
    "import os\n",
    "os.environ[\"OPENAI_API_KEY\"] = xxx"
   ]
  },
  {
   "cell_type": "code",
   "execution_count": null,
   "id": "bedd70dd-b63c-4258-b0c8-29f7e202c7ae",
   "metadata": {},
   "outputs": [],
   "source": [
    "# pip install numexpr google-search-results"
   ]
  },
  {
   "cell_type": "code",
   "execution_count": 45,
   "id": "d4f2a012-af70-4171-9a4e-9fe802c41555",
   "metadata": {},
   "outputs": [],
   "source": [
    "from langchain.llms import OpenAI\n",
    "from langchain.prompts import PromptTemplate\n",
    "from langchain.chains import LLMChain, ConversationChain\n",
    "from langchain.agents import load_tools, initialize_agent,AgentType"
   ]
  },
  {
   "cell_type": "code",
   "execution_count": 46,
   "id": "f9ef402f-8e7e-4598-94d1-a0a4e5c3b671",
   "metadata": {},
   "outputs": [],
   "source": [
    "#load the language model we're going to use to control the agent.\n",
    "llm_OpenAI = OpenAI(temperature=0.8)"
   ]
  },
  {
   "cell_type": "code",
   "execution_count": null,
   "id": "dfe9c2e7-c3b0-4b32-9e05-b1a5adc396af",
   "metadata": {},
   "outputs": [],
   "source": [
    "# load some tools e.g. Database lookup, Python REPL, other chains. \n",
    "#The interface for a tool is currently a function that is expected to have a string as an input..\n",
    "#..with a string as an output. that the `llm-math` tool uses an LLM, so we need to pass that in.\n",
    "tools = load_tools([\"serpapi\", \"llm-math\"], llm=llm)"
   ]
  },
  {
   "cell_type": "code",
   "execution_count": null,
   "id": "01c8a51f-1fa5-47b0-a5ce-acebeff246ee",
   "metadata": {},
   "outputs": [],
   "source": [
    "project_prompt = PromptTemplate(\n",
    "    input_variables=[\"project_objective\"],\n",
    "    template=\"estimate the construction costs of a project to {project_objective}, making use of averages with the calculator \",)"
   ]
  },
  {
   "cell_type": "code",
   "execution_count": null,
   "id": "5e6c9962-0321-411d-b6d5-1071bd11b5e8",
   "metadata": {},
   "outputs": [],
   "source": [
    "#initial_prompt=print(project_prompt.format(project_objective=\"a school in salisbury, UK\"))"
   ]
  },
  {
   "cell_type": "code",
   "execution_count": 67,
   "id": "35b02744-1fe8-4447-aa3e-13a5ceecb312",
   "metadata": {},
   "outputs": [],
   "source": [
    "#An LLMChain consists of a PromptTemplate and an LLM.\n",
    "Get_GPT_output_chain = LLMChain(llm=llm_OpenAI, prompt=project_prompt)"
   ]
  },
  {
   "cell_type": "code",
   "execution_count": 68,
   "id": "f218dfcd-402c-4c3b-a30e-586d6ef79877",
   "metadata": {},
   "outputs": [],
   "source": [
    "initial_GPT_output=Get_GPT_output_chain.run(project_objective=\"a school in salisbury, UK\")"
   ]
  },
  {
   "cell_type": "code",
   "execution_count": null,
   "id": "da35e848-ae9c-4ff2-87b7-b52aafe67b91",
   "metadata": {},
   "outputs": [],
   "source": [
    "initial_GPT_output"
   ]
  }
 ],
 "metadata": {
  "kernelspec": {
   "display_name": "Python 3 (ipykernel)",
   "language": "python",
   "name": "python3"
  },
  "language_info": {
   "codemirror_mode": {
    "name": "ipython",
    "version": 3
   },
   "file_extension": ".py",
   "mimetype": "text/x-python",
   "name": "python",
   "nbconvert_exporter": "python",
   "pygments_lexer": "ipython3",
   "version": "3.8.5"
  }
 },
 "nbformat": 4,
 "nbformat_minor": 5
}
